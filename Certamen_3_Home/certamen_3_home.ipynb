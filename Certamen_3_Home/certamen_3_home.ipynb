{
 "cells": [
  {
   "cell_type": "markdown",
   "metadata": {},
   "source": [
    "# Pregunta 1"
   ]
  },
  {
   "cell_type": "code",
   "execution_count": 1,
   "metadata": {},
   "outputs": [],
   "source": [
    "import numpy as np\n",
    "import matplotlib.pyplot as plt"
   ]
  },
  {
   "cell_type": "code",
   "execution_count": 19,
   "metadata": {},
   "outputs": [],
   "source": [
    "fdesc = lambda x: x**2\n",
    "\n",
    "n = 7\n",
    "\n",
    "p_x = np.array([-1, -0.8, -0.5, -0.4, 0, 0.3, 0.7, 0.9, 1])\n",
    "p_y = fdesc(p_x)"
   ]
  },
  {
   "cell_type": "code",
   "execution_count": 12,
   "metadata": {},
   "outputs": [
    {
     "name": "stdout",
     "output_type": "stream",
     "text": [
      "[-1.  -0.8 -0.5 -0.4  0.   0.3  0.7  0.9  1. ]\n",
      "[1.   0.64 0.25 0.16 0.   0.09 0.49 0.81 1.  ]\n"
     ]
    }
   ],
   "source": [
    "print(p_x)\n",
    "print(p_y)"
   ]
  },
  {
   "cell_type": "code",
   "execution_count": 9,
   "metadata": {},
   "outputs": [
    {
     "data": {
      "image/png": "[encoded data removed]",
      "text/plain": [
       "<Figure size 640x480 with 1 Axes>"
      ]
     },
     "metadata": {},
     "output_type": "display_data"
    }
   ],
   "source": [
    "plt.scatter(p_x, p_y, c =\"blue\")\n",
    "plt.show()"
   ]
  },
  {
   "cell_type": "code",
   "execution_count": 13,
   "metadata": {},
   "outputs": [
    {
     "name": "stdout",
     "output_type": "stream",
     "text": [
      "2.0\n"
     ]
    }
   ],
   "source": [
    "def AGSD(x0, y0, x1, y1, x2, y2):\n",
    "    first = -(2*y0)/((x0-x1)*(x2-x0))\n",
    "    second = (2*y1)/((x0-x1)*(x2-x0))\n",
    "    third = (2*y1)/((x1-x2)*(x2-x0))\n",
    "    fourth = -(2*y2)/((x1-x2)*(x2-x0))\n",
    "    return first + second + third + fourth\n",
    "\n",
    "print(AGSD(-0.4, 0.16 , 0, 0, 0.3, 0.09))\n"
   ]
  },
  {
   "cell_type": "code",
   "execution_count": 56,
   "metadata": {},
   "outputs": [
    {
     "name": "stdout",
     "output_type": "stream",
     "text": [
      "[-1.7999999999999998, -1.3000000000000003, -0.8999999999999999, -0.4000000000000001, 0.3, 0.9999999999999999, 1.6, 1.9]\n"
     ]
    }
   ],
   "source": [
    "def derivatives(x,y):\n",
    "    return np.diff(y)/np.diff(x)\n",
    "\n",
    "print(list(derivatives(p_x, p_y)))\n"
   ]
  },
  {
   "cell_type": "code",
   "execution_count": 55,
   "metadata": {},
   "outputs": [],
   "source": [
    "def adapted_trapecio(n, xs, ys, derivatives):\n",
    "    sum = 0\n",
    "    for i in np.arange(n+1):\n",
    "        sum += ((xs[i+1] - xs[i])/2)*(np.abs(derivatives[i])+np.abs(derivatives[i+1]))\n",
    "    return sum"
   ]
  },
  {
   "cell_type": "code",
   "execution_count": 57,
   "metadata": {},
   "outputs": [],
   "source": [
    "derivadas = list(derivatives(p_x, p_y))\n",
    "derivadas.append(derivadas[n])"
   ]
  },
  {
   "cell_type": "code",
   "execution_count": 58,
   "metadata": {},
   "outputs": [
    {
     "data": {
      "text/plain": [
       "2.1"
      ]
     },
     "execution_count": 58,
     "metadata": {},
     "output_type": "execute_result"
    }
   ],
   "source": [
    "adapted_trapecio(n, p_x, p_y, derivadas)"
   ]
  },
  {
   "cell_type": "code",
   "execution_count": 59,
   "metadata": {},
   "outputs": [
    {
     "name": "stdout",
     "output_type": "stream",
     "text": [
      "True\n"
     ]
    }
   ],
   "source": [
    "def evaluation(n, x_k, y_k, alpha, beta, gamma, delta, j):\n",
    "    first = alpha * AGSD(x_k[j-1], y_k[j-1], x_k[j], y_k[j], x_k[j+1], y_k[j+1])\n",
    "    second = beta * derivadas[j]\n",
    "    third = gamma * y_k[j] - 1\n",
    "    eval = np.abs(first + second + third)\n",
    "    if eval < delta:\n",
    "        boool = True\n",
    "    else :\n",
    "        boool = False\n",
    "    return boool\n",
    "\n",
    "print(evaluation(n, p_x, p_y, 3, 2, 4, 6, 1))"
   ]
  }
 ],
 "metadata": {
  "kernelspec": {
   "display_name": "Python 3",
   "language": "python",
   "name": "python3"
  },
  "language_info": {
   "codemirror_mode": {
    "name": "ipython",
    "version": 3
   },
   "file_extension": ".py",
   "mimetype": "text/x-python",
   "name": "python",
   "nbconvert_exporter": "python",
   "pygments_lexer": "ipython3",
   "version": "3.10.10"
  },
  "orig_nbformat": 4
 },
 "nbformat": 4,
 "nbformat_minor": 2
}
