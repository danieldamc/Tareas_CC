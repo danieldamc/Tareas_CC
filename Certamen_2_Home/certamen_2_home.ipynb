{
 "cells": [
  {
   "attachments": {},
   "cell_type": "markdown",
   "metadata": {},
   "source": [
    "# Certamen 2 - Computacion Cientifica"
   ]
  },
  {
   "attachments": {},
   "cell_type": "markdown",
   "metadata": {},
   "source": [
    "## Pregunta 1"
   ]
  },
  {
   "cell_type": "code",
   "execution_count": 1,
   "metadata": {},
   "outputs": [],
   "source": [
    "import numpy as np\n",
    "import scipy.interpolate"
   ]
  },
  {
   "cell_type": "code",
   "execution_count": 2,
   "metadata": {},
   "outputs": [],
   "source": [
    "N = 5\n",
    "M = 3"
   ]
  },
  {
   "attachments": {},
   "cell_type": "markdown",
   "metadata": {},
   "source": [
    "Construccion de Factorizacion de array $T_{n}$"
   ]
  },
  {
   "cell_type": "code",
   "execution_count": 3,
   "metadata": {},
   "outputs": [],
   "source": [
    "def create_U(n: int) -> np.ndarray:    \n",
    "    UB = np.zeros((n, n))\n",
    "    for i in np.arange(n):\n",
    "        UB[i,i] = (i+2)/(i+1)\n",
    "        for j in np.arange(n):\n",
    "            if i-j == -1:\n",
    "                UB[i,j] = -1\n",
    "    return UB\n",
    "\n",
    "def create_L(n: int) -> np.ndarray:\n",
    "    LB = np.zeros((n,n))\n",
    "    for i in np.arange(n):\n",
    "        LB[i,i] = 1\n",
    "        for j in np.arange(n):\n",
    "            if i-j == 1:\n",
    "                LB[i,j] = -(i/(i+1))\n",
    "    return LB"
   ]
  },
  {
   "cell_type": "code",
   "execution_count": 4,
   "metadata": {},
   "outputs": [],
   "source": [
    "L = create_L(N)\n",
    "U = create_U(N)"
   ]
  },
  {
   "cell_type": "code",
   "execution_count": 5,
   "metadata": {},
   "outputs": [
    {
     "name": "stdout",
     "output_type": "stream",
     "text": [
      "[[ 1.          0.          0.          0.          0.        ]\n",
      " [-0.5         1.          0.          0.          0.        ]\n",
      " [ 0.         -0.66666667  1.          0.          0.        ]\n",
      " [ 0.          0.         -0.75        1.          0.        ]\n",
      " [ 0.          0.          0.         -0.8         1.        ]]\n",
      "[[ 2.         -1.          0.          0.          0.        ]\n",
      " [ 0.          1.5        -1.          0.          0.        ]\n",
      " [ 0.          0.          1.33333333 -1.          0.        ]\n",
      " [ 0.          0.          0.          1.25       -1.        ]\n",
      " [ 0.          0.          0.          0.          1.2       ]]\n"
     ]
    }
   ],
   "source": [
    "print(L)\n",
    "print(U)"
   ]
  },
  {
   "cell_type": "code",
   "execution_count": 6,
   "metadata": {},
   "outputs": [
    {
     "name": "stdout",
     "output_type": "stream",
     "text": [
      "[[ 2. -1.  0.  0.  0.]\n",
      " [-1.  2. -1.  0.  0.]\n",
      " [ 0. -1.  2. -1.  0.]\n",
      " [ 0.  0. -1.  2. -1.]\n",
      " [ 0.  0.  0. -1.  2.]]\n"
     ]
    }
   ],
   "source": [
    "T = L @ U\n",
    "print(T)"
   ]
  },
  {
   "attachments": {},
   "cell_type": "markdown",
   "metadata": {},
   "source": [
    "### Funciones para generar puntos equiespaciados y chevishev"
   ]
  },
  {
   "cell_type": "code",
   "execution_count": 7,
   "metadata": {},
   "outputs": [],
   "source": [
    "def equiespaciados(n):\n",
    "    equis = ((2 * (np.arange(1, n+1) - 1)) / (n-1)) - 1\n",
    "    return equis\n",
    "\n",
    "def chev(n):\n",
    "    upper = ((2*np.arange(1, n+1)) - 1) * np.pi\n",
    "    lower = 2 * n\n",
    "    chev = np.cos(upper/lower)\n",
    "    return chev"
   ]
  },
  {
   "attachments": {},
   "cell_type": "markdown",
   "metadata": {},
   "source": [
    "### Funciones para aplicar forward substitution y backward substitution"
   ]
  },
  {
   "cell_type": "code",
   "execution_count": 8,
   "metadata": {},
   "outputs": [],
   "source": [
    "def backward_substitution(A: np.ndarray, b: np.ndarray, n: int):\n",
    "    x = np.zeros(n)\n",
    "    for i in range(n-1, -1, -1):\n",
    "        for j in range(i, n):\n",
    "            b[i] = b[i] - A[i,j]*x[j]\n",
    "        x[i] = b[i]/A[i,i]\n",
    "    return x\n",
    "\n",
    "def forward_substitution(A: np.ndarray, b: np.ndarray, n: int):\n",
    "    x = np.zeros(n)\n",
    "    x[0] = (1./A[0,0]) * b[0]\n",
    "    for i in range(1,n):\n",
    "        x[i] = (1./A[i,i]) * (b[i] - np.sum(A[i,:i] * x[:i]))\n",
    "    return x"
   ]
  },
  {
   "attachments": {},
   "cell_type": "markdown",
   "metadata": {},
   "source": [
    "### Funcion a aproximar, usada con propositos de prueba"
   ]
  },
  {
   "cell_type": "code",
   "execution_count": 9,
   "metadata": {},
   "outputs": [],
   "source": [
    "f = lambda x: np.cos(2*x)"
   ]
  },
  {
   "attachments": {},
   "cell_type": "markdown",
   "metadata": {},
   "source": [
    "### Creacion de $n$ puntos equiespaciados y su evalucion en f() para pruebas"
   ]
  },
  {
   "cell_type": "code",
   "execution_count": 10,
   "metadata": {},
   "outputs": [
    {
     "name": "stdout",
     "output_type": "stream",
     "text": [
      "[-1.  -0.5  0.   0.5  1. ]\n",
      "[-0.41614684  0.54030231  1.          0.54030231 -0.41614684]\n"
     ]
    }
   ],
   "source": [
    "x_known = equiespaciados(N)\n",
    "y_unknown = f(x_known)\n",
    "print(x_known)\n",
    "print(y_unknown)"
   ]
  },
  {
   "attachments": {},
   "cell_type": "markdown",
   "metadata": {},
   "source": [
    "### Creacion de puntos conocidos"
   ]
  },
  {
   "cell_type": "code",
   "execution_count": 11,
   "metadata": {},
   "outputs": [
    {
     "name": "stdout",
     "output_type": "stream",
     "text": [
      "[-1.  0.  1.]\n",
      "[-0.41614684  1.         -0.41614684]\n"
     ]
    }
   ],
   "source": [
    "x_lin = np.linspace(-1, 1, M)\n",
    "y_lin = f(x_lin)\n",
    "print(x_lin)\n",
    "print(y_lin)"
   ]
  },
  {
   "cell_type": "code",
   "execution_count": 12,
   "metadata": {},
   "outputs": [
    {
     "name": "stdout",
     "output_type": "stream",
     "text": [
      "[ 8.66025404e-01  6.12323400e-17 -8.66025404e-01]\n",
      "[-0.16055654  1.         -0.16055654]\n"
     ]
    }
   ],
   "source": [
    "x_chev = chev(M)\n",
    "y_chev = f(x_chev)\n",
    "print(x_chev)\n",
    "print(y_chev)\n"
   ]
  },
  {
   "attachments": {},
   "cell_type": "markdown",
   "metadata": {},
   "source": [
    "### Estimacion de $w$ con los dos set de puntos"
   ]
  },
  {
   "cell_type": "code",
   "execution_count": 13,
   "metadata": {},
   "outputs": [
    {
     "name": "stdout",
     "output_type": "stream",
     "text": [
      "Original      = [-0.41614684  0.54030231  1.          0.54030231 -0.41614684]\n",
      "Interpolacion = [-0.41614684  0.64596329  1.          0.64596329 -0.41614684]\n",
      "Error         = [ 0.         -0.10566098  0.         -0.10566098  0.        ]\n",
      "Error Total   = 0.2113219699901493\n"
     ]
    }
   ],
   "source": [
    "y_lin_app = scipy.interpolate.barycentric_interpolate(x_lin, y_lin, x_known)\n",
    "print(f\"Original      = {y_unknown}\")\n",
    "print(f\"Interpolacion = {y_lin_app}\")\n",
    "print(f\"Error         = {y_unknown - y_lin_app}\")\n",
    "print(f\"Error Total   = {np.sum(np.abs(y_unknown - y_lin_app))}\")"
   ]
  },
  {
   "cell_type": "code",
   "execution_count": 14,
   "metadata": {},
   "outputs": [
    {
     "name": "stdout",
     "output_type": "stream",
     "text": [
      "Original      = [-0.41614684  0.54030231  1.          0.54030231 -0.41614684]\n",
      "Interpolacion = [-0.54740872  0.61314782  1.          0.61314782 -0.54740872]\n",
      "Error         = [ 0.13126188 -0.07284551  0.         -0.07284551  0.13126188]\n",
      "Error Total   = 0.40821479231881685\n"
     ]
    }
   ],
   "source": [
    "y_chev_app = scipy.interpolate.barycentric_interpolate(x_chev, y_chev, x_known)\n",
    "print(f\"Original      = {y_unknown}\")\n",
    "print(f\"Interpolacion = {y_chev_app}\")\n",
    "print(f\"Error         = {y_unknown - y_chev_app}\")\n",
    "print(f\"Error Total   = {np.sum(np.abs(y_unknown - y_chev_app))}\")"
   ]
  },
  {
   "cell_type": "code",
   "execution_count": 15,
   "metadata": {},
   "outputs": [
    {
     "name": "stdout",
     "output_type": "stream",
     "text": [
      "Best: Equispaciado\n"
     ]
    }
   ],
   "source": [
    "if np.sum(np.abs(y_unknown - y_chev_app)) < np.sum(np.abs(y_unknown - y_lin_app)):\n",
    "    pri = \"Chevishev\"\n",
    "else:\n",
    "    pri = \"Equispaciado\"\n",
    "\n",
    "print(f\"Best: {pri}\")"
   ]
  },
  {
   "attachments": {},
   "cell_type": "markdown",
   "metadata": {},
   "source": [
    "### Aproximacion de $v$"
   ]
  },
  {
   "cell_type": "code",
   "execution_count": 16,
   "metadata": {},
   "outputs": [
    {
     "name": "stdout",
     "output_type": "stream",
     "text": [
      "[0.5657391  1.67888692 2.17888692 1.67888692 0.5657391 ]\n"
     ]
    }
   ],
   "source": [
    "c_chev = forward_substitution(L, y_chev_app, N)\n",
    "v_chev = backward_substitution(U, c_chev, N)\n",
    "print(v_chev)"
   ]
  },
  {
   "cell_type": "code",
   "execution_count": 17,
   "metadata": {},
   "outputs": [
    {
     "name": "stdout",
     "output_type": "stream",
     "text": [
      "[0.62415547 1.66445778 2.16445778 1.66445778 0.62415547]\n"
     ]
    }
   ],
   "source": [
    "c_original = forward_substitution(L, y_unknown, N)\n",
    "v_original = backward_substitution(U, c_original, N)\n",
    "print(v_original)"
   ]
  },
  {
   "cell_type": "code",
   "execution_count": 18,
   "metadata": {},
   "outputs": [
    {
     "name": "stdout",
     "output_type": "stream",
     "text": [
      "Error Total   = 0.16012017687540836\n"
     ]
    }
   ],
   "source": [
    "print(f\"Error Total   = {np.sum(np.abs(v_original - v_chev))}\")"
   ]
  },
  {
   "attachments": {},
   "cell_type": "markdown",
   "metadata": {},
   "source": [
    "## Pregunta 2"
   ]
  },
  {
   "attachments": {},
   "cell_type": "markdown",
   "metadata": {},
   "source": [
    "### Create test data"
   ]
  },
  {
   "cell_type": "code",
   "execution_count": 19,
   "metadata": {},
   "outputs": [],
   "source": [
    "x = np.array([0.1, 0.8, 0.7, 1.5, 2.3, 2.5, 2.7, 3.1, 3.8, 4.4])\n",
    "y = np.array([0.5, 1., 0.2, 1.3, 1.2, 2.2, 1.6, 2, 2.3, 3.7])\n",
    "t = np.array([0.08, 0.3, 0.35, 0.75, 1.2, 1.25, 1.3, 1.55, 1.9, 2.5])"
   ]
  },
  {
   "attachments": {},
   "cell_type": "markdown",
   "metadata": {},
   "source": [
    "### Point to work with"
   ]
  },
  {
   "cell_type": "code",
   "execution_count": 20,
   "metadata": {},
   "outputs": [],
   "source": [
    "p = np.array([2.5 , 3]) "
   ]
  },
  {
   "attachments": {},
   "cell_type": "markdown",
   "metadata": {},
   "source": [
    "### Create matriz a to solve square means problems"
   ]
  },
  {
   "cell_type": "code",
   "execution_count": 21,
   "metadata": {},
   "outputs": [],
   "source": [
    "A = np.vstack([np.ones(x.size), t])\n",
    "A = A.T"
   ]
  },
  {
   "cell_type": "code",
   "execution_count": 22,
   "metadata": {},
   "outputs": [
    {
     "name": "stdout",
     "output_type": "stream",
     "text": [
      "[[1.   0.08]\n",
      " [1.   0.3 ]\n",
      " [1.   0.35]\n",
      " [1.   0.75]\n",
      " [1.   1.2 ]\n",
      " [1.   1.25]\n",
      " [1.   1.3 ]\n",
      " [1.   1.55]\n",
      " [1.   1.9 ]\n",
      " [1.   2.5 ]]\n"
     ]
    }
   ],
   "source": [
    "print(A)"
   ]
  },
  {
   "attachments": {},
   "cell_type": "markdown",
   "metadata": {},
   "source": [
    "### QR Factorization"
   ]
  },
  {
   "cell_type": "code",
   "execution_count": 23,
   "metadata": {},
   "outputs": [],
   "source": [
    "Q, R = np.linalg.qr(A)"
   ]
  },
  {
   "cell_type": "code",
   "execution_count": 24,
   "metadata": {},
   "outputs": [
    {
     "name": "stdout",
     "output_type": "stream",
     "text": [
      "[[-0.31622777 -0.45357534]\n",
      " [-0.31622777 -0.35744184]\n",
      " [-0.31622777 -0.33559331]\n",
      " [-0.31622777 -0.16080513]\n",
      " [-0.31622777  0.03583158]\n",
      " [-0.31622777  0.0576801 ]\n",
      " [-0.31622777  0.07952862]\n",
      " [-0.31622777  0.18877124]\n",
      " [-0.31622777  0.3417109 ]\n",
      " [-0.31622777  0.60389318]]\n",
      "[[-3.16227766 -3.53542642]\n",
      " [ 0.          2.28848421]]\n"
     ]
    }
   ],
   "source": [
    "print(Q)\n",
    "print(R)"
   ]
  },
  {
   "attachments": {},
   "cell_type": "markdown",
   "metadata": {},
   "source": [
    "### Solve square means problems to obtain $a_{1}$, $b_{1}$, $a_{2}$, $b_{2}$."
   ]
  },
  {
   "cell_type": "code",
   "execution_count": 25,
   "metadata": {},
   "outputs": [],
   "source": [
    "a1, b1 = np.linalg.solve(R, Q.T @ x)\n",
    "a2, b2 = np.linalg.solve(R, Q.T @ y)"
   ]
  },
  {
   "cell_type": "code",
   "execution_count": 26,
   "metadata": {},
   "outputs": [
    {
     "name": "stdout",
     "output_type": "stream",
     "text": [
      "(0.15050752698027214, 1.8242329812341038)\n",
      "(0.21519105774885652, 1.2386484277738314)\n"
     ]
    }
   ],
   "source": [
    "print((a1, b1))\n",
    "print((a2, b2))"
   ]
  },
  {
   "attachments": {},
   "cell_type": "markdown",
   "metadata": {},
   "source": [
    "### Create functions with values obtained"
   ]
  },
  {
   "cell_type": "code",
   "execution_count": 27,
   "metadata": {},
   "outputs": [],
   "source": [
    "f = lambda t: a1 + b1 * t\n",
    "g = lambda t: a2 + b2 * t"
   ]
  },
  {
   "attachments": {},
   "cell_type": "markdown",
   "metadata": {},
   "source": [
    "### Create function of the differenciate to obtain t_tilde"
   ]
  },
  {
   "cell_type": "code",
   "execution_count": 28,
   "metadata": {},
   "outputs": [],
   "source": [
    "def dife(a1, b1, a2, b2, p):\n",
    "    return (p[0]*b1 - a1*b1 + p[1]*b2 - a2*b2)/(b1**2 + b2**2)"
   ]
  },
  {
   "cell_type": "code",
   "execution_count": 29,
   "metadata": {},
   "outputs": [],
   "source": [
    "t_tilde = dife(a1,b1,a2,b2,p)\n",
    "p2 = np.array([f(t_tilde), g(t_tilde)])\n",
    "distance = np.linalg.norm(p-p2, ord=2, axis= 0)"
   ]
  },
  {
   "cell_type": "code",
   "execution_count": 30,
   "metadata": {},
   "outputs": [
    {
     "name": "stdout",
     "output_type": "stream",
     "text": [
      "t_tilde: 1.5909708197834906\n",
      "distance to line: 0.984096962956381\n"
     ]
    }
   ],
   "source": [
    "print(f\"t_tilde: {t_tilde}\")\n",
    "print(f\"distance to line: {distance}\")"
   ]
  }
 ],
 "metadata": {
  "kernelspec": {
   "display_name": "Python 3",
   "language": "python",
   "name": "python3"
  },
  "language_info": {
   "codemirror_mode": {
    "name": "ipython",
    "version": 3
   },
   "file_extension": ".py",
   "mimetype": "text/x-python",
   "name": "python",
   "nbconvert_exporter": "python",
   "pygments_lexer": "ipython3",
   "version": "3.10.10"
  },
  "orig_nbformat": 4
 },
 "nbformat": 4,
 "nbformat_minor": 2
}
